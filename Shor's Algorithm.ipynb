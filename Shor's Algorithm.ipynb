{
 "cells": [
  {
   "cell_type": "code",
   "execution_count": 1,
   "id": "a8594e5b",
   "metadata": {},
   "outputs": [
    {
     "name": "stdout",
     "output_type": "stream",
     "text": [
      "All imports Successful\n"
     ]
    },
    {
     "name": "stderr",
     "output_type": "stream",
     "text": [
      "/Users/pranishbhagat/opt/anaconda3/envs/cwq/lib/python3.9/site-packages/qiskit/aqua/__init__.py:86: DeprecationWarning: The package qiskit.aqua is deprecated. It was moved/refactored to qiskit-terra For more information see <https://github.com/Qiskit/qiskit-aqua/blob/main/README.md#migration-guide>\n",
      "  warn_package('aqua', 'qiskit-terra')\n"
     ]
    }
   ],
   "source": [
    "# The easiest method to use the Shor's algorithm is to use the Shor class in aqua. \n",
    "# Import all the necessary. \n",
    "# These are all the things that will run the experiment\n",
    "from qiskit.aqua.algorithms import Shor \n",
    "from qiskit.aqua import QuantumInstance\n",
    "import numpy as np\n",
    "import pandas as pd\n",
    "from math import gcd\n",
    "from fractions import Fraction\n",
    "from numpy.random import randint\n",
    "from qiskit import QuantumCircuit,Aer, execute ,transpile, assemble\n",
    "from qiskit.tools.visualization import plot_histogram\n",
    "print(\"All imports Successful\")\n"
   ]
  },
  {
   "cell_type": "code",
   "execution_count": 2,
   "id": "268d7cba",
   "metadata": {
    "scrolled": true
   },
   "outputs": [
    {
     "name": "stdout",
     "output_type": "stream",
     "text": [
      "Setup asuccessful\n"
     ]
    },
    {
     "name": "stderr",
     "output_type": "stream",
     "text": [
      "/Users/pranishbhagat/opt/anaconda3/envs/cwq/lib/python3.9/site-packages/qiskit/aqua/quantum_instance.py:135: DeprecationWarning: The class qiskit.aqua.QuantumInstance is deprecated. It was moved/refactored to qiskit.utils.QuantumInstance (pip install qiskit-terra). For more information see <https://github.com/Qiskit/qiskit-aqua/blob/main/README.md#migration-guide>\n",
      "  warn_class('aqua.QuantumInstance',\n",
      "/Users/pranishbhagat/opt/anaconda3/envs/cwq/lib/python3.9/site-packages/qiskit/aqua/algorithms/factorizers/shor.py:69: DeprecationWarning: The package qiskit.aqua.algorithms.factorizers is deprecated. It was moved/refactored to qiskit.algorithms.factorizers (pip install qiskit-terra). For more information see <https://github.com/Qiskit/qiskit-aqua/blob/main/README.md#migration-guide>\n",
      "  warn_package('aqua.algorithms.factorizers',\n"
     ]
    }
   ],
   "source": [
    "# Setup the backend and the instances to run the experiment. \n",
    "# For this project, I am going to factorize 15. This is a really easy example but shows the power of Shor's Algorithm.\n",
    "backend = Aer.get_backend('qasm_simulator')\n",
    "quantum_instance = QuantumInstance(backend, shots = 1000)\n",
    "my_Shor1 = Shor(N=15, a = 2, quantum_instance = quantum_instance)\n",
    "# my_Shor2 = Shor(N=25, a = 2, quantum_instance = quantum_instance)\n",
    "# my_Shor3 = Shor(N=55, a = 13, quantum_instance = quantum_instance)\n",
    "print(\"Setup asuccessful\")"
   ]
  },
  {
   "cell_type": "code",
   "execution_count": 3,
   "id": "eacc64e5",
   "metadata": {},
   "outputs": [
    {
     "data": {
      "text/plain": [
       "{'factors': [[3, 5]], 'total_counts': 60, 'successful_counts': 17}"
      ]
     },
     "execution_count": 3,
     "metadata": {},
     "output_type": "execute_result"
    }
   ],
   "source": [
    "Shor.run(my_Shor1)"
   ]
  },
  {
   "cell_type": "code",
   "execution_count": 4,
   "id": "3e2fc720",
   "metadata": {},
   "outputs": [],
   "source": [
    "# Let's take a look at how the algorithm works \n",
    "# Shor's algorithm can be broken down into three parts. \n",
    "    # Number one(Modular Exponentiation Function): We can convert the factoring problem into a period finding probelm usign what's called the \n",
    "    # Modular Exponentiation Function.\n",
    "    # What this boils down to is dividing our number by guest nunber 'a' and computing the remainder.\n",
    "    # For good guesses of a, this function is periodic as we increase the power of a.\n",
    "    # Number two (Quantum Fourier Transform): The second part finds the period of the modular exponentiation \n",
    "    # function using the Quantum Fourier Transform and this is responsible for the quantum speedup of this algorithm.\n",
    "    # Number three (Compute factors of original number): Once we found the period of our modular exponentiation function, \n",
    "    # we can use this number to essentially compute the factors of our original numbe usign the magic formualr[explained in the report]\n",
    "    "
   ]
  },
  {
   "cell_type": "code",
   "execution_count": 5,
   "id": "c3402df6",
   "metadata": {},
   "outputs": [],
   "source": [
    "# magic numbers: \n",
    "# a = guess number\n",
    "# r = period of modular exponentiation function.\n",
    "# N = number to factor\n",
    "# p = a^(r/2) - 1 \n",
    "# q = a^(r/2) + 1\n",
    "# These two numbers p and q are not essentially the factors of N that we're looking for, but with high probability, they'll\n",
    "# have co-factors  with N which we can compute efficiently. \n"
   ]
  },
  {
   "cell_type": "code",
   "execution_count": 6,
   "id": "239c8e03",
   "metadata": {},
   "outputs": [],
   "source": [
    "# Code for modular exponentiation function. This is hardcoded for 15 and a guess number for 7.\n",
    "def c_amod15(a, power):\n",
    "    \"\"\"Controlled multiplication by a mod 15\"\"\"\n",
    "    if a not in [2,7,8,11,13]:\n",
    "        raise ValueError(\"'a' must be 2,7,8,11 or 13\")\n",
    "    U = QuantumCircuit(4)        \n",
    "    for iteration in range(power):\n",
    "        if a in [2,13]:\n",
    "            U.swap(0,1)\n",
    "            U.swap(1,2)\n",
    "            U.swap(2,3)\n",
    "        if a in [7,8]:\n",
    "            U.swap(2,3)\n",
    "            U.swap(1,2)\n",
    "            U.swap(0,1)\n",
    "        if a == 11:\n",
    "            U.swap(1,3)\n",
    "            U.swap(0,2)\n",
    "        if a in [7,11,13]:\n",
    "            for q in range(4):\n",
    "                U.x(q)\n",
    "    U = U.to_gate()\n",
    "    U.name = \"%i^%i mod 15\" % (a, power)\n",
    "    c_U = U.control()\n",
    "    return c_U\n",
    "            \n",
    "            "
   ]
  },
  {
   "cell_type": "code",
   "execution_count": 7,
   "id": "ef646c25",
   "metadata": {},
   "outputs": [],
   "source": [
    "# specify that we have 8 qubits. \n",
    "n_count = 7\n",
    "a = 7"
   ]
  },
  {
   "cell_type": "code",
   "execution_count": 8,
   "id": "32973c5c",
   "metadata": {},
   "outputs": [],
   "source": [
    "# define the quantum fourier transform circuit. \n",
    "def qft_dagger(n):\n",
    "    qc = QuantumCircuit(n) # the circuit takes n qubits. \n",
    "    for qubit in range(n//2):\n",
    "        qc.swap(qubit,n-qubit-1)\n",
    "    for j in range(n):\n",
    "        for m in range(j):\n",
    "            qc.cu1(-np.pi/float(2**(j-m)),m,j)\n",
    "        qc.h(j)\n",
    "    qc.name=\"QFT dagger\"\n",
    "    return qc"
   ]
  },
  {
   "cell_type": "code",
   "execution_count": 9,
   "id": "c921ed56",
   "metadata": {},
   "outputs": [
    {
     "name": "stderr",
     "output_type": "stream",
     "text": [
      "<ipython-input-8-3c8e5fc3eb9e>:8: DeprecationWarning: The QuantumCircuit.cu1 method is deprecated as of 0.16.0. It will be removed no earlier than 3 months after the release date. You should use the QuantumCircuit.cp method instead, which acts identically.\n",
      "  qc.cu1(-np.pi/float(2**(j-m)),m,j)\n"
     ]
    },
    {
     "data": {
      "text/html": [
       "<pre style=\"word-wrap: normal;white-space: pre;background: #fff0;line-height: 1.1;font-family: &quot;Courier New&quot;,Courier,monospace\">      ┌───┐                                                            »\n",
       " q_0: ┤ H ├─────────────────────────────────────■──────────────────────»\n",
       "      ├───┤                                     │                      »\n",
       " q_1: ┤ H ├─────────────────────────────────────┼──────────────■───────»\n",
       "      ├───┤                                     │              │       »\n",
       " q_2: ┤ H ├─────────────────────────────────────┼──────────────┼───────»\n",
       "      ├───┤                                     │              │       »\n",
       " q_3: ┤ H ├─────────────────────────────────────┼──────────────┼───────»\n",
       "      ├───┤                                     │              │       »\n",
       " q_4: ┤ H ├─────────────────────────────────────┼──────────────┼───────»\n",
       "      ├───┤                                     │              │       »\n",
       " q_5: ┤ H ├─────────────────────────────────────┼──────────────┼───────»\n",
       "      ├───┤                                     │              │       »\n",
       " q_6: ┤ H ├─────────────────────────────────────┼──────────────┼───────»\n",
       "      └───┘                              ┌──────┴──────┐┌──────┴──────┐»\n",
       " q_7: ───────────────────────────────────┤0            ├┤0            ├»\n",
       "                                         │             ││             │»\n",
       " q_8: ───────────────────────────────────┤1            ├┤1            ├»\n",
       "                                         │  7^1 mod 15 ││  7^2 mod 15 │»\n",
       " q_9: ───────────────────────────────────┤2            ├┤2            ├»\n",
       "      ┌───┐┌───┐┌───┐┌───┐┌───┐┌───┐┌───┐│             ││             │»\n",
       "q_10: ┤ X ├┤ X ├┤ X ├┤ X ├┤ X ├┤ X ├┤ X ├┤3            ├┤3            ├»\n",
       "      └───┘└───┘└───┘└───┘└───┘└───┘└───┘└─────────────┘└─────────────┘»\n",
       " c: 7/═════════════════════════════════════════════════════════════════»\n",
       "                                                                       »\n",
       "«                                                                    »\n",
       "« q_0: ──────────────────────────────────────────────────────────────»\n",
       "«                                                                    »\n",
       "« q_1: ──────────────────────────────────────────────────────────────»\n",
       "«                                                                    »\n",
       "« q_2: ───────■──────────────────────────────────────────────────────»\n",
       "«             │                                                      »\n",
       "« q_3: ───────┼──────────────■───────────────────────────────────────»\n",
       "«             │              │                                       »\n",
       "« q_4: ───────┼──────────────┼──────────────■────────────────────────»\n",
       "«             │              │              │                        »\n",
       "« q_5: ───────┼──────────────┼──────────────┼───────────────■────────»\n",
       "«             │              │              │               │        »\n",
       "« q_6: ───────┼──────────────┼──────────────┼───────────────┼────────»\n",
       "«      ┌──────┴──────┐┌──────┴──────┐┌──────┴───────┐┌──────┴───────┐»\n",
       "« q_7: ┤0            ├┤0            ├┤0             ├┤0             ├»\n",
       "«      │             ││             ││              ││              │»\n",
       "« q_8: ┤1            ├┤1            ├┤1             ├┤1             ├»\n",
       "«      │  7^4 mod 15 ││  7^8 mod 15 ││  7^16 mod 15 ││  7^32 mod 15 │»\n",
       "« q_9: ┤2            ├┤2            ├┤2             ├┤2             ├»\n",
       "«      │             ││             ││              ││              │»\n",
       "«q_10: ┤3            ├┤3            ├┤3             ├┤3             ├»\n",
       "«      └─────────────┘└─────────────┘└──────────────┘└──────────────┘»\n",
       "« c: 7/══════════════════════════════════════════════════════════════»\n",
       "«                                                                    »\n",
       "«                      ┌─────────────┐┌─┐                  \n",
       "« q_0: ────────────────┤0            ├┤M├──────────────────\n",
       "«                      │             │└╥┘┌─┐               \n",
       "« q_1: ────────────────┤1            ├─╫─┤M├───────────────\n",
       "«                      │             │ ║ └╥┘┌─┐            \n",
       "« q_2: ────────────────┤2            ├─╫──╫─┤M├────────────\n",
       "«                      │             │ ║  ║ └╥┘┌─┐         \n",
       "« q_3: ────────────────┤3 QFT dagger ├─╫──╫──╫─┤M├─────────\n",
       "«                      │             │ ║  ║  ║ └╥┘┌─┐      \n",
       "« q_4: ────────────────┤4            ├─╫──╫──╫──╫─┤M├──────\n",
       "«                      │             │ ║  ║  ║  ║ └╥┘┌─┐   \n",
       "« q_5: ────────────────┤5            ├─╫──╫──╫──╫──╫─┤M├───\n",
       "«                      │             │ ║  ║  ║  ║  ║ └╥┘┌─┐\n",
       "« q_6: ───────■────────┤6            ├─╫──╫──╫──╫──╫──╫─┤M├\n",
       "«      ┌──────┴───────┐└─────────────┘ ║  ║  ║  ║  ║  ║ └╥┘\n",
       "« q_7: ┤0             ├────────────────╫──╫──╫──╫──╫──╫──╫─\n",
       "«      │              │                ║  ║  ║  ║  ║  ║  ║ \n",
       "« q_8: ┤1             ├────────────────╫──╫──╫──╫──╫──╫──╫─\n",
       "«      │  7^64 mod 15 │                ║  ║  ║  ║  ║  ║  ║ \n",
       "« q_9: ┤2             ├────────────────╫──╫──╫──╫──╫──╫──╫─\n",
       "«      │              │                ║  ║  ║  ║  ║  ║  ║ \n",
       "«q_10: ┤3             ├────────────────╫──╫──╫──╫──╫──╫──╫─\n",
       "«      └──────────────┘                ║  ║  ║  ║  ║  ║  ║ \n",
       "« c: 7/════════════════════════════════╩══╩══╩══╩══╩══╩══╩═\n",
       "«                                      0  1  2  3  4  5  6 </pre>"
      ],
      "text/plain": [
       "      ┌───┐                                                            »\n",
       " q_0: ┤ H ├─────────────────────────────────────■──────────────────────»\n",
       "      ├───┤                                     │                      »\n",
       " q_1: ┤ H ├─────────────────────────────────────┼──────────────■───────»\n",
       "      ├───┤                                     │              │       »\n",
       " q_2: ┤ H ├─────────────────────────────────────┼──────────────┼───────»\n",
       "      ├───┤                                     │              │       »\n",
       " q_3: ┤ H ├─────────────────────────────────────┼──────────────┼───────»\n",
       "      ├───┤                                     │              │       »\n",
       " q_4: ┤ H ├─────────────────────────────────────┼──────────────┼───────»\n",
       "      ├───┤                                     │              │       »\n",
       " q_5: ┤ H ├─────────────────────────────────────┼──────────────┼───────»\n",
       "      ├───┤                                     │              │       »\n",
       " q_6: ┤ H ├─────────────────────────────────────┼──────────────┼───────»\n",
       "      └───┘                              ┌──────┴──────┐┌──────┴──────┐»\n",
       " q_7: ───────────────────────────────────┤0            ├┤0            ├»\n",
       "                                         │             ││             │»\n",
       " q_8: ───────────────────────────────────┤1            ├┤1            ├»\n",
       "                                         │  7^1 mod 15 ││  7^2 mod 15 │»\n",
       " q_9: ───────────────────────────────────┤2            ├┤2            ├»\n",
       "      ┌───┐┌───┐┌───┐┌───┐┌───┐┌───┐┌───┐│             ││             │»\n",
       "q_10: ┤ X ├┤ X ├┤ X ├┤ X ├┤ X ├┤ X ├┤ X ├┤3            ├┤3            ├»\n",
       "      └───┘└───┘└───┘└───┘└───┘└───┘└───┘└─────────────┘└─────────────┘»\n",
       " c: 7/═════════════════════════════════════════════════════════════════»\n",
       "                                                                       »\n",
       "«                                                                    »\n",
       "« q_0: ──────────────────────────────────────────────────────────────»\n",
       "«                                                                    »\n",
       "« q_1: ──────────────────────────────────────────────────────────────»\n",
       "«                                                                    »\n",
       "« q_2: ───────■──────────────────────────────────────────────────────»\n",
       "«             │                                                      »\n",
       "« q_3: ───────┼──────────────■───────────────────────────────────────»\n",
       "«             │              │                                       »\n",
       "« q_4: ───────┼──────────────┼──────────────■────────────────────────»\n",
       "«             │              │              │                        »\n",
       "« q_5: ───────┼──────────────┼──────────────┼───────────────■────────»\n",
       "«             │              │              │               │        »\n",
       "« q_6: ───────┼──────────────┼──────────────┼───────────────┼────────»\n",
       "«      ┌──────┴──────┐┌──────┴──────┐┌──────┴───────┐┌──────┴───────┐»\n",
       "« q_7: ┤0            ├┤0            ├┤0             ├┤0             ├»\n",
       "«      │             ││             ││              ││              │»\n",
       "« q_8: ┤1            ├┤1            ├┤1             ├┤1             ├»\n",
       "«      │  7^4 mod 15 ││  7^8 mod 15 ││  7^16 mod 15 ││  7^32 mod 15 │»\n",
       "« q_9: ┤2            ├┤2            ├┤2             ├┤2             ├»\n",
       "«      │             ││             ││              ││              │»\n",
       "«q_10: ┤3            ├┤3            ├┤3             ├┤3             ├»\n",
       "«      └─────────────┘└─────────────┘└──────────────┘└──────────────┘»\n",
       "« c: 7/══════════════════════════════════════════════════════════════»\n",
       "«                                                                    »\n",
       "«                      ┌─────────────┐┌─┐                  \n",
       "« q_0: ────────────────┤0            ├┤M├──────────────────\n",
       "«                      │             │└╥┘┌─┐               \n",
       "« q_1: ────────────────┤1            ├─╫─┤M├───────────────\n",
       "«                      │             │ ║ └╥┘┌─┐            \n",
       "« q_2: ────────────────┤2            ├─╫──╫─┤M├────────────\n",
       "«                      │             │ ║  ║ └╥┘┌─┐         \n",
       "« q_3: ────────────────┤3 QFT dagger ├─╫──╫──╫─┤M├─────────\n",
       "«                      │             │ ║  ║  ║ └╥┘┌─┐      \n",
       "« q_4: ────────────────┤4            ├─╫──╫──╫──╫─┤M├──────\n",
       "«                      │             │ ║  ║  ║  ║ └╥┘┌─┐   \n",
       "« q_5: ────────────────┤5            ├─╫──╫──╫──╫──╫─┤M├───\n",
       "«                      │             │ ║  ║  ║  ║  ║ └╥┘┌─┐\n",
       "« q_6: ───────■────────┤6            ├─╫──╫──╫──╫──╫──╫─┤M├\n",
       "«      ┌──────┴───────┐└─────────────┘ ║  ║  ║  ║  ║  ║ └╥┘\n",
       "« q_7: ┤0             ├────────────────╫──╫──╫──╫──╫──╫──╫─\n",
       "«      │              │                ║  ║  ║  ║  ║  ║  ║ \n",
       "« q_8: ┤1             ├────────────────╫──╫──╫──╫──╫──╫──╫─\n",
       "«      │  7^64 mod 15 │                ║  ║  ║  ║  ║  ║  ║ \n",
       "« q_9: ┤2             ├────────────────╫──╫──╫──╫──╫──╫──╫─\n",
       "«      │              │                ║  ║  ║  ║  ║  ║  ║ \n",
       "«q_10: ┤3             ├────────────────╫──╫──╫──╫──╫──╫──╫─\n",
       "«      └──────────────┘                ║  ║  ║  ║  ║  ║  ║ \n",
       "« c: 7/════════════════════════════════╩══╩══╩══╩══╩══╩══╩═\n",
       "«                                      0  1  2  3  4  5  6 "
      ]
     },
     "execution_count": 9,
     "metadata": {},
     "output_type": "execute_result"
    }
   ],
   "source": [
    "qc = QuantumCircuit(n_count + 4, n_count)\n",
    "\n",
    "for q in range(n_count):\n",
    "    qc.h(q)\n",
    "\n",
    "    qc.x(3+n_count)\n",
    "\n",
    "for q in range(n_count):\n",
    "    qc.append(c_amod15(a,2**q),[q]+[i+n_count for i in range(4)])\n",
    "\n",
    "qc.append(qft_dagger(n_count),range(n_count))\n",
    "qc.measure(range(n_count),range(n_count))\n",
    "qc.draw('text')\n",
    "#  print(\"Successful\")"
   ]
  },
  {
   "cell_type": "code",
   "execution_count": 10,
   "id": "9d29be33",
   "metadata": {},
   "outputs": [
    {
     "data": {
      "image/png": "[encoded data removed]",
      "text/plain": [
       "<Figure size 504x360 with 1 Axes>"
      ]
     },
     "execution_count": 10,
     "metadata": {},
     "output_type": "execute_result"
    }
   ],
   "source": [
    "backend = Aer.get_backend('qasm_simulator')\n",
    "results = execute(qc,backend, shots = 2048).result()\n",
    "counts = results.get_counts()\n",
    "plot_histogram(counts)"
   ]
  },
  {
   "cell_type": "code",
   "execution_count": 11,
   "id": "cdef6ec4",
   "metadata": {},
   "outputs": [],
   "source": [
    "# # This gives us 3 guesses for r. r = 1,2,4\n",
    "# # r = 4 \n",
    "# # p = a^(r/2) - 1 \n",
    "# # q = a^(r/2) + 1 \n",
    "# #here, a = 7 \n",
    "# # which gives: \n",
    "# # p = 48 , q = 50\n",
    "# r = 4\n",
    "# p_ess = a**(r/2) -1 \n",
    "# q_ess= a**(r/2) + 1"
   ]
  },
  {
   "cell_type": "code",
   "execution_count": 12,
   "id": "76a17567",
   "metadata": {},
   "outputs": [],
   "source": [
    "# p_ess"
   ]
  },
  {
   "cell_type": "code",
   "execution_count": 13,
   "id": "9644844a",
   "metadata": {},
   "outputs": [],
   "source": [
    "# def computeGCD(x, y):\n",
    "  \n",
    "#     if x > y:\n",
    "#         small = y\n",
    "#     else:\n",
    "#         small = x\n",
    "#     for i in range(1, small+1):\n",
    "#         if((x % i == 0) and (y % i == 0)):\n",
    "#             gcd = i\n",
    "              \n",
    "#     return gcd\n",
    "\n",
    "N = 15\n",
    "# p = computeGCD(p_ess, N)\n",
    "# q = computeGCD(q_ess, N)"
   ]
  },
  {
   "cell_type": "code",
   "execution_count": 14,
   "id": "34faab60",
   "metadata": {},
   "outputs": [],
   "source": [
    "# print(p,q)"
   ]
  },
  {
   "cell_type": "code",
   "execution_count": 15,
   "id": "2717e9c3",
   "metadata": {},
   "outputs": [
    {
     "name": "stdout",
     "output_type": "stream",
     "text": [
      "           Register Output          Phase\n",
      "0  0100000(bin) =  32(dec)  32/128 = 0.25\n",
      "1  1000000(bin) =  64(dec)  64/128 = 0.50\n",
      "2  1100000(bin) =  96(dec)  96/128 = 0.75\n",
      "3  0000000(bin) =   0(dec)   0/128 = 0.00\n"
     ]
    }
   ],
   "source": [
    "rows, measured_phases = [], []\n",
    "for output in counts:\n",
    "    decimal = int(output, 2)  # Convert (base 2) string to decimal\n",
    "    phase = decimal/(2**n_count)  # Find corresponding eigenvalue\n",
    "    measured_phases.append(phase)\n",
    "    # Add these values to the rows in our table:\n",
    "    rows.append([f\"{output}(bin) = {decimal:>3}(dec)\", \n",
    "                 f\"{decimal}/{2**n_count} = {phase:.2f}\"])\n",
    "# Print the rows in a table\n",
    "headers=[\"Register Output\", \"Phase\"]\n",
    "df = pd.DataFrame(rows, columns=headers)\n",
    "print(df)"
   ]
  },
  {
   "cell_type": "code",
   "execution_count": 16,
   "id": "6fa6cfd8",
   "metadata": {},
   "outputs": [
    {
     "name": "stdout",
     "output_type": "stream",
     "text": [
      "   Phase Fraction  Guess for r\n",
      "0   0.25      1/4            4\n",
      "1   0.50      1/2            2\n",
      "2   0.75      3/4            4\n",
      "3   0.00      0/1            1\n"
     ]
    }
   ],
   "source": [
    "rows = []\n",
    "for phase in measured_phases:\n",
    "    frac = Fraction(phase).limit_denominator(15)\n",
    "    rows.append([phase, f\"{frac.numerator}/{frac.denominator}\", frac.denominator])\n",
    "# Print as a table\n",
    "headers=[\"Phase\", \"Fraction\", \"Guess for r\"]\n",
    "df = pd.DataFrame(rows, columns=headers)\n",
    "print(df)"
   ]
  },
  {
   "cell_type": "code",
   "execution_count": 17,
   "id": "20912636",
   "metadata": {},
   "outputs": [],
   "source": [
    "def a2jmodN(a, j, N):\n",
    "    \"\"\"Compute a^{2^j} (mod N) by repeated squaring\"\"\"\n",
    "    for i in range(j):\n",
    "        a = np.mod(a**2, N)\n",
    "    return a"
   ]
  },
  {
   "cell_type": "code",
   "execution_count": 18,
   "id": "a9bbb1ee",
   "metadata": {},
   "outputs": [
    {
     "data": {
      "text/plain": [
       "47"
      ]
     },
     "execution_count": 18,
     "metadata": {},
     "output_type": "execute_result"
    }
   ],
   "source": [
    "a2jmodN(7, 2049, 53)"
   ]
  },
  {
   "cell_type": "code",
   "execution_count": 19,
   "id": "dd05cbb6",
   "metadata": {},
   "outputs": [],
   "source": [
    "N = 15"
   ]
  },
  {
   "cell_type": "code",
   "execution_count": 20,
   "id": "29066e0e",
   "metadata": {},
   "outputs": [
    {
     "name": "stdout",
     "output_type": "stream",
     "text": [
      "7\n"
     ]
    }
   ],
   "source": [
    "np.random.seed(1) # This is to make sure we get reproduceable results\n",
    "a = randint(2, 15)\n",
    "print(a)"
   ]
  },
  {
   "cell_type": "code",
   "execution_count": 21,
   "id": "d0103c79",
   "metadata": {},
   "outputs": [
    {
     "data": {
      "text/plain": [
       "1"
      ]
     },
     "execution_count": 21,
     "metadata": {},
     "output_type": "execute_result"
    }
   ],
   "source": [
    "from math import gcd # greatest common divisor\n",
    "gcd(a, N)"
   ]
  },
  {
   "cell_type": "code",
   "execution_count": 22,
   "id": "232485ad",
   "metadata": {},
   "outputs": [],
   "source": [
    "def qpe_amod15(a):\n",
    "    n_count = 8\n",
    "    qc = QuantumCircuit(4+n_count, n_count)\n",
    "    for q in range(n_count):\n",
    "        qc.h(q)     # Initialize counting qubits in state |+>\n",
    "    qc.x(3+n_count) # And auxiliary register in state |1>\n",
    "    for q in range(n_count): # Do controlled-U operations\n",
    "        qc.append(c_amod15(a, 2**q), \n",
    "                 [q] + [i+n_count for i in range(4)])\n",
    "    qc.append(qft_dagger(n_count), range(n_count)) # Do inverse-QFT\n",
    "    qc.measure(range(n_count), range(n_count))\n",
    "    # Simulate Results\n",
    "    aer_sim = Aer.get_backend('aer_simulator')\n",
    "    # Setting memory=True below allows us to see a list of each sequential reading\n",
    "    t_qc = transpile(qc, aer_sim)\n",
    "    qobj = assemble(t_qc, shots=1)\n",
    "    result = aer_sim.run(qobj, memory=True).result()\n",
    "    readings = result.get_memory()\n",
    "    print(\"Register Reading: \" + readings[0])\n",
    "    phase = int(readings[0],2)/(2**n_count)\n",
    "    print(\"Corresponding Phase: %f\" % phase)\n",
    "    return phase"
   ]
  },
  {
   "cell_type": "code",
   "execution_count": 23,
   "id": "fafed81a",
   "metadata": {},
   "outputs": [
    {
     "name": "stdout",
     "output_type": "stream",
     "text": [
      "Register Reading: 01000000\n",
      "Corresponding Phase: 0.250000\n"
     ]
    },
    {
     "data": {
      "text/plain": [
       "Fraction(1, 4)"
      ]
     },
     "execution_count": 23,
     "metadata": {},
     "output_type": "execute_result"
    }
   ],
   "source": [
    "phase = qpe_amod15(a) # Phase = s/r\n",
    "Fraction(phase).limit_denominator(15) # Denominator should (hopefully!) tell us r"
   ]
  },
  {
   "cell_type": "code",
   "execution_count": 24,
   "id": "7ccc7afa",
   "metadata": {},
   "outputs": [
    {
     "name": "stdout",
     "output_type": "stream",
     "text": [
      "4\n"
     ]
    }
   ],
   "source": [
    "frac = Fraction(phase).limit_denominator(15)\n",
    "s, r = frac.numerator, frac.denominator\n",
    "print(r)"
   ]
  },
  {
   "cell_type": "code",
   "execution_count": 25,
   "id": "9da82d01",
   "metadata": {},
   "outputs": [
    {
     "name": "stdout",
     "output_type": "stream",
     "text": [
      "[3, 5]\n"
     ]
    }
   ],
   "source": [
    "guesses = [gcd(a**(r//2)-1, N), gcd(a**(r//2)+1, N)]\n",
    "print(guesses)"
   ]
  }
 ],
 "metadata": {
  "kernelspec": {
   "display_name": "Python 3",
   "language": "python",
   "name": "python3"
  },
  "language_info": {
   "codemirror_mode": {
    "name": "ipython",
    "version": 3
   },
   "file_extension": ".py",
   "mimetype": "text/x-python",
   "name": "python",
   "nbconvert_exporter": "python",
   "pygments_lexer": "ipython3",
   "version": "3.9.4"
  }
 },
 "nbformat": 4,
 "nbformat_minor": 5
}
